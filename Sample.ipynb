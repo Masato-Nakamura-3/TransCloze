{
 "cells": [
  {
   "cell_type": "code",
   "execution_count": null,
   "id": "8e8d8f6f",
   "metadata": {
    "scrolled": true
   },
   "outputs": [],
   "source": [
    "import TransCloze\n",
    "import pickle # Not required but useful to save/load files"
   ]
  },
  {
   "cell_type": "code",
   "execution_count": null,
   "id": "f7d51229",
   "metadata": {},
   "outputs": [],
   "source": [
    "# Use help function to see how each function works\n",
    "help(TransCloze.generate_textgrid)"
   ]
  },
  {
   "cell_type": "markdown",
   "id": "7142fcd6",
   "metadata": {},
   "source": [
    "## Onset detection (Chronset)"
   ]
  },
  {
   "cell_type": "code",
   "execution_count": null,
   "id": "c25647a8",
   "metadata": {},
   "outputs": [],
   "source": [
    "# Set the directories\n",
    "wav_dir = \"/WAV_DIR\" # The directory containing all the wav files to process\n",
    "ch_input = \"/CH_INPUT\" # The directory to save the zip files to send to Chronset\n",
    "ch_output = \"/CH_OUTPUT\" # The directory containing the chronset output text files"
   ]
  },
  {
   "cell_type": "code",
   "execution_count": null,
   "id": "1e977d5a",
   "metadata": {},
   "outputs": [],
   "source": [
    "# Generate zip files to send to Chronset\n",
    "# The output is a set of zip files whose name starts from \"experiment1_\" and each contain up to 500 wav files\n",
    "TransCloze.chronset_prep(\"experiment1\", wav_dir, ch_input)"
   ]
  },
  {
   "cell_type": "code",
   "execution_count": null,
   "id": "8aa8177b",
   "metadata": {},
   "outputs": [],
   "source": [
    "# After you get the chronset onset estimates ...\n",
    "# Generate dictionaries of the onset\n",
    "onset_dict =TransCloze.chronset_dict(ch_output)"
   ]
  },
  {
   "cell_type": "markdown",
   "id": "42871e0d",
   "metadata": {},
   "source": [
    "## Transcription (Google Cloud Speech-to-Text API)"
   ]
  },
  {
   "cell_type": "code",
   "execution_count": null,
   "id": "95e96587",
   "metadata": {},
   "outputs": [],
   "source": [
    "# Setting up the directories and pahts\n",
    "tg_dir = \"/TG_DIR\" # Directory to save TextGrid files\n",
    "csv_path = \"/CSV_PATH\" # Path to save the csv file to analyze\n",
    "\n",
    "# Load the Google Cloud credential\n",
    "cred = \"/CREDENTIAL_PATH\""
   ]
  },
  {
   "cell_type": "code",
   "execution_count": null,
   "id": "b8364f52",
   "metadata": {},
   "outputs": [],
   "source": [
    "# Optional: If you already have some TextGrid files\n",
    "old_tg_dir = \"/OLD_TG_DIR\" # Directories of human-corrected TextGrid files\n",
    "\n",
    "# Generate keywords from existing TextGrid files, if you have\n",
    "keywords = TransCloze.get_keywords(old_tg_dir, combine_conditions = False)"
   ]
  },
  {
   "cell_type": "code",
   "execution_count": null,
   "id": "0ff28f50",
   "metadata": {},
   "outputs": [],
   "source": [
    "# Get transcription\n",
    "# This generates transcriptions for wav files whose names starting with \"exp_\"\n",
    "transc_dict = TransCloze.transcribe(wav_dir, cred, prefix = [\"exp\"], keyword = keyword_dict)"
   ]
  },
  {
   "cell_type": "markdown",
   "id": "415e3378",
   "metadata": {},
   "source": [
    "## Output the onsets/transcriptions"
   ]
  },
  {
   "cell_type": "code",
   "execution_count": null,
   "id": "03776520",
   "metadata": {},
   "outputs": [],
   "source": [
    "# Optional: Load additional information, if you have (e.g. contexts)\n",
    "context_dict= pickle.load(open(\"/CONTEXT_PATH\", \"rb\"))"
   ]
  },
  {
   "cell_type": "code",
   "execution_count": null,
   "id": "841d8009",
   "metadata": {},
   "outputs": [],
   "source": [
    "# Generate TextGrid files from the detected onsets and automatic transcriptions, only for TextGrid files starting with \"exp_\"\n",
    "TransCloze.generate_textgrid(transc_dict, tg_dir, wav_dir, prefix = [\"exp\"], onset = onset_dict, context = context_dict, inconsistent = True)"
   ]
  },
  {
   "cell_type": "code",
   "execution_count": null,
   "id": "b415c3c4",
   "metadata": {},
   "outputs": [],
   "source": [
    "# Generate a csv file\n",
    "TransCloze.generate_csv(tg_dir, csv_path)"
   ]
  }
 ],
 "metadata": {
  "kernelspec": {
   "display_name": "Python 3",
   "language": "python",
   "name": "python3"
  },
  "language_info": {
   "codemirror_mode": {
    "name": "ipython",
    "version": 3
   },
   "file_extension": ".py",
   "mimetype": "text/x-python",
   "name": "python",
   "nbconvert_exporter": "python",
   "pygments_lexer": "ipython3",
   "version": "3.6.13"
  }
 },
 "nbformat": 4,
 "nbformat_minor": 5
}
